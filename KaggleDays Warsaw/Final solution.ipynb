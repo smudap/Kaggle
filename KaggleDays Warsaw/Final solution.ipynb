{
 "cells": [
  {
   "cell_type": "markdown",
   "metadata": {
    "_uuid": "fba9dbf4b679e6267ff9420c734a1be43aa9df50"
   },
   "source": [
    "# Libraries"
   ]
  },
  {
   "cell_type": "code",
   "execution_count": 1,
   "metadata": {
    "_cell_guid": "b1076dfc-b9ad-4769-8c92-a6c4dae69d19",
    "_uuid": "8f2839f25d086af736a60e9eeb907d3b93b6e0e5",
    "collapsed": true
   },
   "outputs": [],
   "source": [
    "import pandas as pd\n",
    "import numpy as np\n",
    "import lightgbm as lgbm\n",
    "from sklearn.preprocessing import LabelEncoder"
   ]
  },
  {
   "cell_type": "markdown",
   "metadata": {
    "_cell_guid": "79c7e3d0-c299-4dcb-8224-4455121ee9b0",
    "_uuid": "d629ff2d2480ee46fbb7e2d37f6b5fab8052498a",
    "collapsed": true
   },
   "source": [
    "# Data"
   ]
  },
  {
   "cell_type": "code",
   "execution_count": 4,
   "metadata": {
    "_uuid": "6e1c1fa7ba65cfe0346331f62b0801c5bdec053a"
   },
   "outputs": [],
   "source": [
    "X = pd.read_csv('./input/train.csv', sep=\"\\t\", index_col='id')\n",
    "Y = pd.read_csv('./input/test.csv', sep=\"\\t\", index_col='id')\n",
    "sub = pd.read_csv('./input/sample_submission.csv', index_col='id')\n",
    "leaked = pd.read_csv('./input/leaked_records.csv', index_col='id')"
   ]
  },
  {
   "cell_type": "markdown",
   "metadata": {
    "_uuid": "33c95a1add89336b6541243101e54928b8cba3e0",
    "collapsed": true
   },
   "source": [
    "# Feature Engineering"
   ]
  },
  {
   "cell_type": "code",
   "execution_count": 10,
   "metadata": {
    "_uuid": "946ef66a86b328328f6b4d3dad9a2f9be55d1d78",
    "collapsed": true
   },
   "outputs": [],
   "source": [
    "def process_question_id(data):\n",
    "    data_copy = data.copy()\n",
    "    question_id_counts = pd.DataFrame(data_copy['question_id'].value_counts()).reset_index().\\\n",
    "        rename(columns={'question_id': 'question_id_count', 'index': 'question_id'})\n",
    "    data_copy = data_copy.merge(question_id_counts, how='left', on='question_id')\n",
    "    return data_copy\n",
    "\n",
    "def process_subreddit(data):\n",
    "    data_copy = data.copy()\n",
    "    subreddit_count = data_copy.groupby('subreddit')['question_score'].agg(lambda x: x.count()).\\\n",
    "    reset_index().rename(columns={'question_score': 'subreddit_count'})\n",
    "    subreddit_unique_count = data_copy.groupby('subreddit')['question_score'].agg(lambda x: x.nunique()).\\\n",
    "        reset_index().rename(columns={'question_score': 'subreddit_unique_count'})\n",
    "    subreddit_qs_mean = data_copy.groupby('subreddit')['question_score'].agg(lambda x: np.mean(x.unique())).\\\n",
    "        reset_index().rename(columns={'question_score': 'subreddit_qs_mean'})\n",
    "    subreddit_qs_std = data_copy.groupby('subreddit')['question_score'].agg(lambda x: np.std(x.unique())).\\\n",
    "        reset_index().rename(columns={'question_score': 'subreddit_qs_std'})\n",
    "    subreddit_qs_min = data_copy.groupby('subreddit')['question_score'].agg(lambda x: np.min(x.unique())).\\\n",
    "        reset_index().rename(columns={'question_score': 'subreddit_qs_min'})\n",
    "    subreddit_qs_q1 = data_copy.groupby('subreddit')['question_score'].agg(lambda x: np.percentile(x.unique(), 25)).\\\n",
    "        reset_index().rename(columns={'question_score': 'subreddit_qs_q1'})\n",
    "    subreddit_qs_q2 = data_copy.groupby('subreddit')['question_score'].agg(lambda x: np.percentile(x.unique(), 50)).\\\n",
    "        reset_index().rename(columns={'question_score': 'subreddit_qs_q2'})\n",
    "    subreddit_qs_q3 = data_copy.groupby('subreddit')['question_score'].agg(lambda x: np.percentile(x.unique(), 75)).\\\n",
    "        reset_index().rename(columns={'question_score': 'subreddit_qs_q3'})\n",
    "    subreddit_qs_max = data_copy.groupby('subreddit')['question_score'].agg(lambda x: np.max(x.unique())).\\\n",
    "        reset_index().rename(columns={'question_score': 'subreddit_qs_max'})\n",
    "    subreddit_stats = subreddit_count.merge(subreddit_unique_count, how='left', on='subreddit')\n",
    "    subreddit_stats = subreddit_stats.merge(subreddit_qs_mean, how='left', on='subreddit')\n",
    "    subreddit_stats = subreddit_stats.merge(subreddit_qs_std, how='left', on='subreddit')\n",
    "    subreddit_stats = subreddit_stats.merge(subreddit_qs_min, how='left', on='subreddit')\n",
    "    subreddit_stats = subreddit_stats.merge(subreddit_qs_q1, how='left', on='subreddit')\n",
    "    subreddit_stats = subreddit_stats.merge(subreddit_qs_q2, how='left', on='subreddit')\n",
    "    subreddit_stats = subreddit_stats.merge(subreddit_qs_q3, how='left', on='subreddit')\n",
    "    subreddit_stats = subreddit_stats.merge(subreddit_qs_max, how='left', on='subreddit')\n",
    "    subreddit_stats\n",
    "    data_copy = data_copy.merge(subreddit_stats, how='left', on='subreddit')\n",
    "    data_copy['qs_better_subreddit_q1'] = (data_copy['question_score'] <= data_copy['subreddit_qs_q1']).astype('int')\n",
    "    data_copy['qs_better_subreddit_q2'] = (data_copy['question_score'] <= data_copy['subreddit_qs_q2']).astype('int')\n",
    "    data_copy['qs_better_subreddit_q3'] = (data_copy['question_score'] <= data_copy['subreddit_qs_q3']).astype('int')\n",
    "    data_copy['qs_better_subreddit_mean'] = (data_copy['question_score'] <= data_copy['subreddit_qs_mean']).astype('int')\n",
    "    return data_copy\n",
    "\n",
    "def process_time(data):\n",
    "    data_copy = data.copy()\n",
    "    data_copy['response_time'] = data_copy['answer_utc'] - data_copy['question_utc']\n",
    "    response_time_stats = data_copy.groupby('subreddit')['response_time'].describe().reset_index().drop('count', axis=1)\n",
    "    response_time_stats.columns = ['subreddit', 'subreddit_rt_mean', 'subreddit_rt_std', 'subreddit_rt_min',\n",
    "                                   'subreddit_rt_q1', 'subreddit_rt_q2', 'subreddit_rt_q3', 'subreddit_rt_max']\n",
    "    data_copy = data_copy.merge(response_time_stats, how='left', on='subreddit')\n",
    "    data_copy['rt_faster_subreddit_q1'] = (data_copy['response_time'] <= data_copy['subreddit_rt_q1']).astype('int')\n",
    "    data_copy['rt_faster_subreddit_q2'] = (data_copy['response_time'] <= data_copy['subreddit_rt_q2']).astype('int')\n",
    "    data_copy['rt_faster_subreddit_q3'] = (data_copy['response_time'] <= data_copy['subreddit_rt_q3']).astype('int')\n",
    "    data_copy['rt_faster_subreddit_mean'] = (data_copy['response_time'] <= data_copy['subreddit_rt_mean']).astype('int')\n",
    "    question_time = pd.to_datetime(data['question_utc'], unit='s')\n",
    "    data_copy['question_day'] = question_time.dt.day\n",
    "    data_copy['question_hour'] = question_time.dt.hour\n",
    "    answer_time = pd.to_datetime(data['answer_utc'], unit='s')\n",
    "    data_copy['answer_day'] = answer_time.dt.day\n",
    "    data_copy['answer_hour'] = answer_time.dt.hour\n",
    "    return data_copy\n",
    "\n",
    "def process_target(data):\n",
    "    data_copy = data.copy()\n",
    "    target_mean = data_copy.groupby('subreddit')['answer_score'].mean().reset_index().\\\n",
    "        rename(columns={'answer_score': 'target_subreddit_mean'})\n",
    "    sub_data = data_copy[['subreddit', 'question_score', 'answer_score']].copy()\n",
    "    sub_data['subreddit_diff'] = sub_data['question_score'] - sub_data['answer_score']\n",
    "    target_diff_mean = sub_data.groupby('subreddit')['subreddit_diff'].mean().reset_index().\\\n",
    "        rename(columns={'subreddit_diff': 'target_subreddit_diff_mean'})\n",
    "    sub_data['subreddit_ratio'] = sub_data['question_score'] / sub_data['answer_score']\n",
    "    target_ratio_mean = sub_data.groupby('subreddit')['subreddit_ratio'].mean().reset_index().\\\n",
    "        rename(columns={'subreddit_ratio': 'target_subreddit_ratio_mean'})\n",
    "    target_stats = target_mean.merge(target_diff_mean, how='left', on='subreddit')\n",
    "    target_stats = target_stats.merge(target_ratio_mean, how='left', on='subreddit')\n",
    "    return target_stats\n",
    "\n",
    "def merge_target(data, target_data):\n",
    "    data_copy = data.copy()\n",
    "    data_copy = data_copy.merge(target_data, how='left', on='subreddit')\n",
    "    return data_copy\n",
    "\n",
    "def process_question_answer_text(data):\n",
    "    data_copy = data.copy()\n",
    "    new_data = pd.DataFrame()\n",
    "    new_data['question_signs'] = data['question_text'].apply(lambda x: len(x))\n",
    "    new_data['answer_signs'] = data['answer_text'].apply(lambda x: len(x))\n",
    "    new_data['question_words'] = data['question_text'].apply(lambda x: len(x.split()))\n",
    "    new_data['answer_words'] = data['answer_text'].apply(lambda x: len(x.split()))\n",
    "    new_data['diff_letters'] = new_data['question_signs'] - new_data['answer_signs']\n",
    "    new_data['diff_words'] = new_data['question_words'] - new_data['answer_words']\n",
    "    new_data['question_link'] = data['question_text'].apply(lambda x: (\"www\" in x) or (\"http\" in x)).astype('int')\n",
    "    new_data['answer_link'] = data['answer_text'].apply(lambda x: (\"www\" in x) or (\"http\" in x)).astype('int')\n",
    "    new_data['question_nb_big_letters'] = data['question_text'].apply(lambda x: sum(1 for c in x if c.isupper()) / len(x))\n",
    "    new_data['answer_nb_big_letters'] = data['answer_text'].apply(lambda x: sum(1 for c in x if c.isupper()) / len(x))\n",
    "    new_data['question_letters'] = data['question_text'].apply(lambda x: sum(1 for c in x if c.isalpha()) / len(x))\n",
    "    new_data['answer_letters'] = data['answer_text'].apply(lambda x: sum(1 for c in x if c.isalpha()) / len(x))\n",
    "    data_copy = pd.concat([data_copy, new_data], axis=1)\n",
    "    return data_copy"
   ]
  },
  {
   "cell_type": "code",
   "execution_count": 11,
   "metadata": {
    "_uuid": "6b08b2ffa25435414036a9aa3b1181109279f2ea"
   },
   "outputs": [],
   "source": [
    "X_new = X.copy()\n",
    "X_new = process_question_id(X_new)\n",
    "X_new = process_subreddit(X_new)\n",
    "X_new = process_time(X_new)\n",
    "X_new = merge_target(X_new, process_target(X))\n",
    "X_new = process_question_answer_text(X_new)"
   ]
  },
  {
   "cell_type": "code",
   "execution_count": 12,
   "metadata": {
    "_uuid": "42ce2c74debd3bece947d6b45d08941e6d231724",
    "collapsed": true
   },
   "outputs": [],
   "source": [
    "Y_new = Y.copy()\n",
    "Y_new = process_question_id(Y_new)\n",
    "Y_new = process_subreddit(Y_new)\n",
    "Y_new = process_time(Y_new)\n",
    "Y_new = merge_target(Y_new, process_target(X))\n",
    "Y_new = process_question_answer_text(Y_new)"
   ]
  },
  {
   "cell_type": "code",
   "execution_count": 13,
   "metadata": {
    "_uuid": "f8644b55691a0664c8c968d208e3b26b9435395d",
    "scrolled": false
   },
   "outputs": [],
   "source": [
    "X_new.shape, Y_new.shape"
   ]
  },
  {
   "cell_type": "code",
   "execution_count": 16,
   "metadata": {
    "_uuid": "23f41d60ea66421847efa7163f8774b00874b5ce"
   },
   "outputs": [],
   "source": [
    "X_new.head()"
   ]
  },
  {
   "cell_type": "code",
   "execution_count": 17,
   "metadata": {
    "_uuid": "08ad9c2528a7a8a48adbcd6f7acf23b462c30ebd"
   },
   "outputs": [],
   "source": [
    "Y_new.head()"
   ]
  },
  {
   "cell_type": "markdown",
   "metadata": {
    "_uuid": "9ec41a3acfe0543ce166d5694d670e19a26b6c03"
   },
   "source": [
    "# Model"
   ]
  },
  {
   "cell_type": "code",
   "execution_count": 18,
   "metadata": {
    "_uuid": "739c0069dc30d97b2a27dc9fe88ed9984aa2c5a5",
    "collapsed": true
   },
   "outputs": [],
   "source": [
    "train = X_new.drop(['question_id', 'question_text', 'answer_text'], axis=1)\n",
    "test = Y_new.drop(['question_id', 'question_text', 'answer_text'], axis=1)"
   ]
  },
  {
   "cell_type": "code",
   "execution_count": 19,
   "metadata": {
    "_uuid": "ec0f02670c0f3daf607a9b9a7908f01c73904c6a",
    "collapsed": true
   },
   "outputs": [],
   "source": [
    "le = LabelEncoder()\n",
    "le.fit(train['subreddit'])\n",
    "train['subreddit'] = le.transform(train['subreddit'])\n",
    "test['subreddit'] = le.transform(test['subreddit'])"
   ]
  },
  {
   "cell_type": "code",
   "execution_count": 20,
   "metadata": {
    "_uuid": "cfef10365b5240a6f8791434eaea9f3db46b2b57",
    "collapsed": true
   },
   "outputs": [],
   "source": [
    "train['answer_score'] = np.log1p(train['answer_score'])"
   ]
  },
  {
   "cell_type": "markdown",
   "metadata": {
    "_uuid": "1aca1d941e807a42259e8e5a541cd7ed982a2225"
   },
   "source": [
    "### Validation by question id sampling"
   ]
  },
  {
   "cell_type": "code",
   "execution_count": 21,
   "metadata": {
    "_uuid": "a96d715355cebbee757b4f0972d36229dcce4b50",
    "collapsed": true
   },
   "outputs": [],
   "source": [
    "np.random.seed(7)\n",
    "questions = X_new['question_id'].unique()\n",
    "train_questions = np.random.choice(questions, int(0.8*len(questions)), replace=False)\n",
    "train_observations = X_new['question_id'].isin(train_questions)"
   ]
  },
  {
   "cell_type": "code",
   "execution_count": 23,
   "metadata": {
    "_uuid": "a15a54ede2df1350ad832c2e69005a7645780a24",
    "scrolled": true
   },
   "outputs": [],
   "source": [
    "train_data = lgbm.Dataset(train.drop(['answer_score'],axis=1).loc[train_observations,:], label=train.loc[train_observations, 'answer_score'])\n",
    "val_data = lgbm.Dataset(train.drop(['answer_score'],axis=1).loc[~train_observations,:], label=train.loc[~train_observations, 'answer_score'])\n",
    "\n",
    "params = {'objective': 'regression',\n",
    "          'learning_rate': 0.015,\n",
    "          'max_bin': 819,\n",
    "          'num_leaves': 5046,\n",
    "          'min_data_in_leaf': 175,\n",
    "          'num_boost_round': 200,\n",
    "          'metric': 'rmse'\n",
    "    }    \n",
    "  \n",
    "val_model = lgbm.train(params, train_data, valid_sets=[train_data, val_data])"
   ]
  },
  {
   "cell_type": "markdown",
   "metadata": {
    "_uuid": "cbc8285f0386bcd60edf1a20fcb9630a5161a354"
   },
   "source": [
    "### Final model"
   ]
  },
  {
   "cell_type": "code",
   "execution_count": 24,
   "metadata": {
    "_uuid": "0c9a66d1d6b81a89883d2500a7062a07f6a01aac",
    "scrolled": true
   },
   "outputs": [],
   "source": [
    "full_train_data = lgbm.Dataset(train.drop(['answer_score'], axis=1), label=train.loc[:, 'answer_score'])\n",
    "\n",
    "params = {'objective': 'regression',\n",
    "          'learning_rate': 0.015,\n",
    "          'max_bin': 819,\n",
    "          'num_leaves': 5046,\n",
    "          'min_data_in_leaf': 175,\n",
    "          'num_boost_round': 200,\n",
    "          'metric': 'rmse',\n",
    "          'verbose': 1\n",
    "    }    \n",
    " \n",
    "final_model = lgbm.train(params, full_train_data, valid_sets=[full_train_data])"
   ]
  },
  {
   "cell_type": "markdown",
   "metadata": {
    "_uuid": "d8dcaadeb7db66dee058e1f22a8591ae7d48d255"
   },
   "source": [
    "### Predictions"
   ]
  },
  {
   "cell_type": "code",
   "execution_count": 25,
   "metadata": {
    "_uuid": "d2e3d1371e3d9395d74c0ea679b1fc15f32a6336",
    "collapsed": true
   },
   "outputs": [],
   "source": [
    "preds = final_model.predict(test)\n",
    "preds = np.expm1(preds)"
   ]
  },
  {
   "cell_type": "code",
   "execution_count": 30,
   "metadata": {
    "_uuid": "a1bd7fc25ed50efbcf671ac788e0dd78aaa35b6f",
    "scrolled": true
   },
   "outputs": [],
   "source": [
    "magic_coef = 0.8\n",
    "sub['answer_score'] = preds * magic_coef\n",
    "sub.loc[leaked.index.tolist()] = leaked"
   ]
  },
  {
   "cell_type": "code",
   "execution_count": 32,
   "metadata": {
    "_uuid": "1a2ee81e318c735942c51722fd2386bdaa44f741"
   },
   "outputs": [],
   "source": [
    "sub.head()"
   ]
  },
  {
   "cell_type": "code",
   "execution_count": 31,
   "metadata": {
    "_uuid": "2bcb7ebb10cc463251ce991557b08ef647853ee7",
    "collapsed": true
   },
   "outputs": [],
   "source": [
    "sub.to_csv('submission.csv')"
   ]
  },
  {
   "cell_type": "markdown",
   "metadata": {
    "_uuid": "8579a26e356139cdd4085f226a4d11b112add748"
   },
   "source": [
    "# Score summary (RMLSE)"
   ]
  },
  {
   "cell_type": "markdown",
   "metadata": {
    "_uuid": "c3baf80517f12117ad67f197830fcb1dbdd03f56"
   },
   "source": [
    "Validation: 0.768906  \n",
    "Without leaked_records.csv:  0.74280 (Public),  0.74579 (Private)  \n",
    "With leaked_records.csv: 0.58089 (Public), 0.58196 (Private)  \n",
    "With leaked_records.csv and 'magic_coef': 0.55144 (Public), **0.55154** (Private)  \n",
    "Our best with leaked_records.csv (in competition): 0.57913 (Public), 0.57995 (Private)"
   ]
  },
  {
   "cell_type": "code",
   "execution_count": null,
   "metadata": {},
   "outputs": [],
   "source": []
  }
 ],
 "metadata": {
  "kernelspec": {
   "display_name": "Python 3",
   "language": "python",
   "name": "python3"
  },
  "language_info": {
   "codemirror_mode": {
    "name": "ipython",
    "version": 3
   },
   "file_extension": ".py",
   "mimetype": "text/x-python",
   "name": "python",
   "nbconvert_exporter": "python",
   "pygments_lexer": "ipython3",
   "version": "3.5.2"
  }
 },
 "nbformat": 4,
 "nbformat_minor": 1
}
